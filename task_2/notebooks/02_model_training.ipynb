{
 "cells": [
  {
   "cell_type": "markdown",
   "id": "a0aaa275",
   "metadata": {},
   "source": [
    "## 🎯 Model Training & Evaluation\n",
    "\n",
    "### ✅ Steps Covered:\n",
    "- Load cleaned data\n",
    "- Build train/test splits\n",
    "- Setup pipeline for numeric and categorical features\n",
    "- Train 3 regression models\n",
    "- Evaluate with MAE, RMSE, and R²\n",
    "- Compare results\n",
    "- Visualize feature importances\n",
    "\n",
    "📁 Output: Trained models ready for predictions.\n"
   ]
  },
  {
   "cell_type": "code",
   "execution_count": 1,
   "id": "ccbb07f8",
   "metadata": {},
   "outputs": [
    {
     "data": {
      "text/html": [
       "<div>\n",
       "<style scoped>\n",
       "    .dataframe tbody tr th:only-of-type {\n",
       "        vertical-align: middle;\n",
       "    }\n",
       "\n",
       "    .dataframe tbody tr th {\n",
       "        vertical-align: top;\n",
       "    }\n",
       "\n",
       "    .dataframe thead th {\n",
       "        text-align: right;\n",
       "    }\n",
       "</style>\n",
       "<table border=\"1\" class=\"dataframe\">\n",
       "  <thead>\n",
       "    <tr style=\"text-align: right;\">\n",
       "      <th></th>\n",
       "      <th>name</th>\n",
       "      <th>year_int</th>\n",
       "      <th>duration</th>\n",
       "      <th>rating</th>\n",
       "      <th>votes</th>\n",
       "      <th>genre_split</th>\n",
       "      <th>genre_count</th>\n",
       "      <th>director_avg_rating</th>\n",
       "      <th>actor_popularity</th>\n",
       "    </tr>\n",
       "  </thead>\n",
       "  <tbody>\n",
       "    <tr>\n",
       "      <th>0</th>\n",
       "      <td>#Gadhvi (He thought he was Gandhi)</td>\n",
       "      <td>(2019)</td>\n",
       "      <td>109 min</td>\n",
       "      <td>7.0</td>\n",
       "      <td>8.0</td>\n",
       "      <td>['Drama']</td>\n",
       "      <td>1</td>\n",
       "      <td>7.000000</td>\n",
       "      <td>NaN</td>\n",
       "    </tr>\n",
       "    <tr>\n",
       "      <th>1</th>\n",
       "      <td>#Yaaram</td>\n",
       "      <td>(2019)</td>\n",
       "      <td>110 min</td>\n",
       "      <td>4.4</td>\n",
       "      <td>35.0</td>\n",
       "      <td>['Comedy', ' Romance']</td>\n",
       "      <td>2</td>\n",
       "      <td>4.400000</td>\n",
       "      <td>NaN</td>\n",
       "    </tr>\n",
       "    <tr>\n",
       "      <th>2</th>\n",
       "      <td>...Aur Pyaar Ho Gaya</td>\n",
       "      <td>(1997)</td>\n",
       "      <td>147 min</td>\n",
       "      <td>4.7</td>\n",
       "      <td>827.0</td>\n",
       "      <td>['Comedy', ' Drama', ' Musical']</td>\n",
       "      <td>3</td>\n",
       "      <td>5.358824</td>\n",
       "      <td>NaN</td>\n",
       "    </tr>\n",
       "    <tr>\n",
       "      <th>3</th>\n",
       "      <td>...Yahaan</td>\n",
       "      <td>(2005)</td>\n",
       "      <td>142 min</td>\n",
       "      <td>7.4</td>\n",
       "      <td>1086.0</td>\n",
       "      <td>['Drama', ' Romance', ' War']</td>\n",
       "      <td>3</td>\n",
       "      <td>7.500000</td>\n",
       "      <td>NaN</td>\n",
       "    </tr>\n",
       "    <tr>\n",
       "      <th>4</th>\n",
       "      <td>?: A Question Mark</td>\n",
       "      <td>(2012)</td>\n",
       "      <td>82 min</td>\n",
       "      <td>5.6</td>\n",
       "      <td>326.0</td>\n",
       "      <td>['Horror', ' Mystery', ' Thriller']</td>\n",
       "      <td>3</td>\n",
       "      <td>5.600000</td>\n",
       "      <td>NaN</td>\n",
       "    </tr>\n",
       "  </tbody>\n",
       "</table>\n",
       "</div>"
      ],
      "text/plain": [
       "                                 name year_int duration  rating   votes  \\\n",
       "0  #Gadhvi (He thought he was Gandhi)   (2019)  109 min     7.0     8.0   \n",
       "1                             #Yaaram   (2019)  110 min     4.4    35.0   \n",
       "2                ...Aur Pyaar Ho Gaya   (1997)  147 min     4.7   827.0   \n",
       "3                           ...Yahaan   (2005)  142 min     7.4  1086.0   \n",
       "4                  ?: A Question Mark   (2012)   82 min     5.6   326.0   \n",
       "\n",
       "                           genre_split  genre_count  director_avg_rating  \\\n",
       "0                            ['Drama']            1             7.000000   \n",
       "1               ['Comedy', ' Romance']            2             4.400000   \n",
       "2     ['Comedy', ' Drama', ' Musical']            3             5.358824   \n",
       "3        ['Drama', ' Romance', ' War']            3             7.500000   \n",
       "4  ['Horror', ' Mystery', ' Thriller']            3             5.600000   \n",
       "\n",
       "   actor_popularity  \n",
       "0               NaN  \n",
       "1               NaN  \n",
       "2               NaN  \n",
       "3               NaN  \n",
       "4               NaN  "
      ]
     },
     "execution_count": 1,
     "metadata": {},
     "output_type": "execute_result"
    }
   ],
   "source": [
    "import pandas as pd\n",
    "import numpy as np\n",
    "from sklearn.model_selection import train_test_split, cross_val_score\n",
    "from sklearn.pipeline import Pipeline\n",
    "from sklearn.compose import ColumnTransformer\n",
    "from sklearn.preprocessing import StandardScaler, OneHotEncoder\n",
    "from sklearn.impute import SimpleImputer\n",
    "from sklearn.ensemble import RandomForestRegressor\n",
    "from sklearn.linear_model import LinearRegression\n",
    "from xgboost import XGBRegressor\n",
    "from sklearn.metrics import mean_absolute_error, mean_squared_error, r2_score\n",
    "import matplotlib.pyplot as plt\n",
    "import seaborn as sns\n",
    "\n",
    "# Load processed data\n",
    "df = pd.read_csv(\"../dataset/movie_data_featured.csv\")\n",
    "df.head()"
   ]
  },
  {
   "cell_type": "code",
   "execution_count": 2,
   "metadata": {},
   "outputs": [],
   "source": [
    "X = df.drop(columns=[\"rating\"])\n",
    "y = df[\"rating\"]"
   ]
  },
  {
   "cell_type": "code",
   "execution_count": 3,
   "id": "9d802fda",
   "metadata": {},
   "outputs": [],
   "source": [
    "X_train, X_test, y_train, y_test = train_test_split(\n",
    "    X, y, test_size=0.2, random_state=42\n",
    ")"
   ]
  },
  {
   "cell_type": "code",
   "execution_count": 4,
   "id": "fbaadb33",
   "metadata": {},
   "outputs": [
    {
     "name": "stdout",
     "output_type": "stream",
     "text": [
      "Numeric columns: ['votes', 'genre_count', 'director_avg_rating', 'actor_popularity']\n",
      "Categorical columns: ['name', 'year_int', 'duration', 'genre_split']\n"
     ]
    }
   ],
   "source": [
    "numeric_cols = X.select_dtypes(include=[\"float64\", \"int64\"]).columns.tolist()\n",
    "categorical_cols = X.select_dtypes(include=\"object\").columns.tolist()\n",
    "\n",
    "print(\"Numeric columns:\", numeric_cols)\n",
    "print(\"Categorical columns:\", categorical_cols)"
   ]
  },
  {
   "cell_type": "code",
   "execution_count": 5,
   "id": "009a67f4",
   "metadata": {},
   "outputs": [],
   "source": [
    "# Numeric pipeline\n",
    "numeric_transformer = Pipeline(steps=[\n",
    "    (\"imputer\", SimpleImputer(strategy=\"mean\")),\n",
    "    (\"scaler\", StandardScaler())\n",
    "])\n",
    "\n",
    "categorical_transformer = Pipeline(steps=[\n",
    "    (\"imputer\", SimpleImputer(strategy=\"constant\", fill_value=\"missing\")),\n",
    "    (\"onehot\", OneHotEncoder(handle_unknown=\"ignore\"))\n",
    "])\n",
    "\n",
    "preprocessor = ColumnTransformer(transformers=[\n",
    "    (\"num\", numeric_transformer, numeric_cols),\n",
    "    (\"cat\", categorical_transformer, categorical_cols)\n",
    "])"
   ]
  },
  {
   "cell_type": "code",
   "execution_count": 6,
   "id": "ef504d87",
   "metadata": {},
   "outputs": [],
   "source": [
    "models = {\n",
    "    \"Linear Regression\": LinearRegression(),\n",
    "    \"Random Forest\": RandomForestRegressor(n_estimators=100, random_state=42),\n",
    "    \"XGBoost\": XGBRegressor(n_estimators=100, learning_rate=0.1, random_state=42)\n",
    "}\n",
    "\n",
    "results = {}"
   ]
  },
  {
   "cell_type": "code",
   "execution_count": 7,
   "id": "7f3cb0c5",
   "metadata": {},
   "outputs": [
    {
     "name": "stdout",
     "output_type": "stream",
     "text": [
      "\n",
      "🔹 Training Linear Regression...\n",
      "Linear Regression ➤ MAE: 1.717 | RMSE: 2.277 | R²: -1.789\n",
      "\n",
      "🔹 Training Random Forest...\n",
      "Random Forest ➤ MAE: 0.551 | RMSE: 0.818 | R²: 0.640\n",
      "\n",
      "🔹 Training XGBoost...\n",
      "XGBoost ➤ MAE: 0.552 | RMSE: 0.809 | R²: 0.648\n"
     ]
    }
   ],
   "source": [
    "for name, model in models.items():\n",
    "    pipe = Pipeline(steps=[\n",
    "        (\"preprocessor\", preprocessor),\n",
    "        (\"regressor\", model)\n",
    "    ])\n",
    "\n",
    "    print(f\"\\n🔹 Training {name}...\")\n",
    "    pipe.fit(X_train, y_train)\n",
    "    y_pred = pipe.predict(X_test)\n",
    "\n",
    "    mae = mean_absolute_error(y_test, y_pred)\n",
    "    rmse = np.sqrt(mean_squared_error(y_test, y_pred))\n",
    "    r2 = r2_score(y_test, y_pred)\n",
    "\n",
    "    results[name] = {\"MAE\": mae, \"RMSE\": rmse, \"R2\": r2}\n",
    "\n",
    "    print(f\"{name} ➤ MAE: {mae:.3f} | RMSE: {rmse:.3f} | R²: {r2:.3f}\")"
   ]
  },
  {
   "cell_type": "code",
   "execution_count": 8,
   "id": "baed8af5",
   "metadata": {},
   "outputs": [
    {
     "name": "stdout",
     "output_type": "stream",
     "text": [
      "\n",
      "📊 Model Performance Summary:\n"
     ]
    },
    {
     "data": {
      "text/html": [
       "<style type=\"text/css\">\n",
       "#T_7e6da_row0_col0, #T_7e6da_row0_col1, #T_7e6da_row1_col0, #T_7e6da_row2_col2 {\n",
       "  background-color: #ffffd9;\n",
       "  color: #000000;\n",
       "}\n",
       "#T_7e6da_row0_col2, #T_7e6da_row1_col2, #T_7e6da_row2_col0, #T_7e6da_row2_col1 {\n",
       "  background-color: #081d58;\n",
       "  color: #f1f1f1;\n",
       "}\n",
       "#T_7e6da_row1_col1 {\n",
       "  background-color: #feffd8;\n",
       "  color: #000000;\n",
       "}\n",
       "</style>\n",
       "<table id=\"T_7e6da\">\n",
       "  <thead>\n",
       "    <tr>\n",
       "      <th class=\"blank level0\" >&nbsp;</th>\n",
       "      <th id=\"T_7e6da_level0_col0\" class=\"col_heading level0 col0\" >MAE</th>\n",
       "      <th id=\"T_7e6da_level0_col1\" class=\"col_heading level0 col1\" >RMSE</th>\n",
       "      <th id=\"T_7e6da_level0_col2\" class=\"col_heading level0 col2\" >R2</th>\n",
       "    </tr>\n",
       "  </thead>\n",
       "  <tbody>\n",
       "    <tr>\n",
       "      <th id=\"T_7e6da_level0_row0\" class=\"row_heading level0 row0\" >XGBoost</th>\n",
       "      <td id=\"T_7e6da_row0_col0\" class=\"data row0 col0\" >0.552</td>\n",
       "      <td id=\"T_7e6da_row0_col1\" class=\"data row0 col1\" >0.809</td>\n",
       "      <td id=\"T_7e6da_row0_col2\" class=\"data row0 col2\" >0.648</td>\n",
       "    </tr>\n",
       "    <tr>\n",
       "      <th id=\"T_7e6da_level0_row1\" class=\"row_heading level0 row1\" >Random Forest</th>\n",
       "      <td id=\"T_7e6da_row1_col0\" class=\"data row1 col0\" >0.551</td>\n",
       "      <td id=\"T_7e6da_row1_col1\" class=\"data row1 col1\" >0.818</td>\n",
       "      <td id=\"T_7e6da_row1_col2\" class=\"data row1 col2\" >0.640</td>\n",
       "    </tr>\n",
       "    <tr>\n",
       "      <th id=\"T_7e6da_level0_row2\" class=\"row_heading level0 row2\" >Linear Regression</th>\n",
       "      <td id=\"T_7e6da_row2_col0\" class=\"data row2 col0\" >1.717</td>\n",
       "      <td id=\"T_7e6da_row2_col1\" class=\"data row2 col1\" >2.277</td>\n",
       "      <td id=\"T_7e6da_row2_col2\" class=\"data row2 col2\" >-1.789</td>\n",
       "    </tr>\n",
       "  </tbody>\n",
       "</table>\n"
      ],
      "text/plain": [
       "<pandas.io.formats.style.Styler at 0x23909dce470>"
      ]
     },
     "metadata": {},
     "output_type": "display_data"
    }
   ],
   "source": [
    "results_df = pd.DataFrame(results).T\n",
    "results_df = results_df.sort_values(\"RMSE\")\n",
    "print(\"\\n📊 Model Performance Summary:\")\n",
    "display(results_df.style.background_gradient(cmap=\"YlGnBu\").format(\"{:.3f}\"))"
   ]
  }
 ],
 "metadata": {
  "kernelspec": {
   "display_name": "irisDS",
   "language": "python",
   "name": "python3"
  },
  "language_info": {
   "codemirror_mode": {
    "name": "ipython",
    "version": 3
   },
   "file_extension": ".py",
   "mimetype": "text/x-python",
   "name": "python",
   "nbconvert_exporter": "python",
   "pygments_lexer": "ipython3",
   "version": "3.10.18"
  }
 },
 "nbformat": 4,
 "nbformat_minor": 5
}
