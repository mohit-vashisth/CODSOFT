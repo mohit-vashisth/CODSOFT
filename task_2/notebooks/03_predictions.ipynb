{
 "cells": [
  {
   "cell_type": "markdown",
   "id": "96f34580",
   "metadata": {},
   "source": [
    "## 📤 Final Predictions\n",
    "\n",
    "### Steps:\n",
    "- Load cleaned dataset (without target)\n",
    "- Rebuild and retrain pipeline on full dataset\n",
    "- Predict movie ratings using RandomForest\n",
    "- Save predictions for analysis/deployment\n",
    "\n",
    "📁 Output: predictions.csv ready for demo, email, or production."
   ]
  },
  {
   "cell_type": "code",
   "execution_count": 1,
   "id": "e9967f07",
   "metadata": {},
   "outputs": [],
   "source": [
    "import pandas as pd\n",
    "import numpy as np\n",
    "from sklearn.pipeline import Pipeline\n",
    "from sklearn.compose import ColumnTransformer\n",
    "from sklearn.preprocessing import StandardScaler, OneHotEncoder\n",
    "from sklearn.impute import SimpleImputer\n",
    "from sklearn.ensemble import RandomForestRegressor\n",
    "import joblib"
   ]
  },
  {
   "cell_type": "code",
   "execution_count": 2,
   "metadata": {},
   "outputs": [],
   "source": [
    "X = pd.read_csv(\"../dataset/movie_data_featured.csv\")\n",
    "\n",
    "X_predict = X.copy()\n",
    "\n",
    "if \"rating\" in X_predict.columns:\n",
    "    X_predict = X_predict.drop(columns=[\"rating\"])\n"
   ]
  },
  {
   "cell_type": "code",
   "execution_count": 3,
   "metadata": {},
   "outputs": [],
   "source": [
    "numeric_cols = X_predict.select_dtypes(include=[\"float64\", \"int64\"]).columns.tolist()\n",
    "categorical_cols = X_predict.select_dtypes(include=\"object\").columns.tolist()\n",
    "\n",
    "# Pipelines\n",
    "numeric_transformer = Pipeline(steps=[\n",
    "    (\"imputer\", SimpleImputer(strategy=\"mean\")),\n",
    "    (\"scaler\", StandardScaler())\n",
    "])\n",
    "\n",
    "categorical_transformer = Pipeline(steps=[\n",
    "    (\"imputer\", SimpleImputer(strategy=\"constant\", fill_value=\"missing\")),\n",
    "    (\"onehot\", OneHotEncoder(handle_unknown=\"ignore\"))\n",
    "])\n",
    "\n",
    "preprocessor = ColumnTransformer(transformers=[\n",
    "    (\"num\", numeric_transformer, numeric_cols),\n",
    "    (\"cat\", categorical_transformer, categorical_cols)\n",
    "])\n",
    "\n",
    "# Final Model (use best one from training, e.g., RandomForest)\n",
    "model = Pipeline(steps=[\n",
    "    (\"preprocessor\", preprocessor),\n",
    "    (\"regressor\", RandomForestRegressor(n_estimators=100, random_state=42))\n",
    "])"
   ]
  },
  {
   "cell_type": "code",
   "execution_count": 4,
   "metadata": {},
   "outputs": [
    {
     "data": {
      "text/plain": [
       "['../models/final_model.pkl']"
      ]
     },
     "execution_count": 4,
     "metadata": {},
     "output_type": "execute_result"
    }
   ],
   "source": [
    "# Full training (if test split was used earlier)\n",
    "df_full = pd.read_csv(\"../dataset/movie_data_featured.csv\")\n",
    "X_full = df_full.drop(columns=[\"rating\"])\n",
    "y_full = df_full[\"rating\"]\n",
    "\n",
    "model.fit(X_full, y_full)\n",
    "\n",
    "# Save the model for deployment\n",
    "joblib.dump(model, \"../models/final_model.pkl\")"
   ]
  },
  {
   "cell_type": "code",
   "execution_count": 5,
   "metadata": {},
   "outputs": [
    {
     "data": {
      "text/html": [
       "<div>\n",
       "<style scoped>\n",
       "    .dataframe tbody tr th:only-of-type {\n",
       "        vertical-align: middle;\n",
       "    }\n",
       "\n",
       "    .dataframe tbody tr th {\n",
       "        vertical-align: top;\n",
       "    }\n",
       "\n",
       "    .dataframe thead th {\n",
       "        text-align: right;\n",
       "    }\n",
       "</style>\n",
       "<table border=\"1\" class=\"dataframe\">\n",
       "  <thead>\n",
       "    <tr style=\"text-align: right;\">\n",
       "      <th></th>\n",
       "      <th>name</th>\n",
       "      <th>year_int</th>\n",
       "      <th>duration</th>\n",
       "      <th>votes</th>\n",
       "      <th>genre_split</th>\n",
       "      <th>genre_count</th>\n",
       "      <th>director_avg_rating</th>\n",
       "      <th>actor_popularity</th>\n",
       "      <th>predicted_rating</th>\n",
       "    </tr>\n",
       "  </thead>\n",
       "  <tbody>\n",
       "    <tr>\n",
       "      <th>0</th>\n",
       "      <td>#Gadhvi (He thought he was Gandhi)</td>\n",
       "      <td>(2019)</td>\n",
       "      <td>109 min</td>\n",
       "      <td>8.0</td>\n",
       "      <td>['Drama']</td>\n",
       "      <td>1</td>\n",
       "      <td>7.000000</td>\n",
       "      <td>NaN</td>\n",
       "      <td>7.007</td>\n",
       "    </tr>\n",
       "    <tr>\n",
       "      <th>1</th>\n",
       "      <td>#Yaaram</td>\n",
       "      <td>(2019)</td>\n",
       "      <td>110 min</td>\n",
       "      <td>35.0</td>\n",
       "      <td>['Comedy', ' Romance']</td>\n",
       "      <td>2</td>\n",
       "      <td>4.400000</td>\n",
       "      <td>NaN</td>\n",
       "      <td>4.421</td>\n",
       "    </tr>\n",
       "    <tr>\n",
       "      <th>2</th>\n",
       "      <td>...Aur Pyaar Ho Gaya</td>\n",
       "      <td>(1997)</td>\n",
       "      <td>147 min</td>\n",
       "      <td>827.0</td>\n",
       "      <td>['Comedy', ' Drama', ' Musical']</td>\n",
       "      <td>3</td>\n",
       "      <td>5.358824</td>\n",
       "      <td>NaN</td>\n",
       "      <td>4.827</td>\n",
       "    </tr>\n",
       "    <tr>\n",
       "      <th>3</th>\n",
       "      <td>...Yahaan</td>\n",
       "      <td>(2005)</td>\n",
       "      <td>142 min</td>\n",
       "      <td>1086.0</td>\n",
       "      <td>['Drama', ' Romance', ' War']</td>\n",
       "      <td>3</td>\n",
       "      <td>7.500000</td>\n",
       "      <td>NaN</td>\n",
       "      <td>7.453</td>\n",
       "    </tr>\n",
       "    <tr>\n",
       "      <th>4</th>\n",
       "      <td>?: A Question Mark</td>\n",
       "      <td>(2012)</td>\n",
       "      <td>82 min</td>\n",
       "      <td>326.0</td>\n",
       "      <td>['Horror', ' Mystery', ' Thriller']</td>\n",
       "      <td>3</td>\n",
       "      <td>5.600000</td>\n",
       "      <td>NaN</td>\n",
       "      <td>5.610</td>\n",
       "    </tr>\n",
       "  </tbody>\n",
       "</table>\n",
       "</div>"
      ],
      "text/plain": [
       "                                 name year_int duration   votes  \\\n",
       "0  #Gadhvi (He thought he was Gandhi)   (2019)  109 min     8.0   \n",
       "1                             #Yaaram   (2019)  110 min    35.0   \n",
       "2                ...Aur Pyaar Ho Gaya   (1997)  147 min   827.0   \n",
       "3                           ...Yahaan   (2005)  142 min  1086.0   \n",
       "4                  ?: A Question Mark   (2012)   82 min   326.0   \n",
       "\n",
       "                           genre_split  genre_count  director_avg_rating  \\\n",
       "0                            ['Drama']            1             7.000000   \n",
       "1               ['Comedy', ' Romance']            2             4.400000   \n",
       "2     ['Comedy', ' Drama', ' Musical']            3             5.358824   \n",
       "3        ['Drama', ' Romance', ' War']            3             7.500000   \n",
       "4  ['Horror', ' Mystery', ' Thriller']            3             5.600000   \n",
       "\n",
       "   actor_popularity  predicted_rating  \n",
       "0               NaN             7.007  \n",
       "1               NaN             4.421  \n",
       "2               NaN             4.827  \n",
       "3               NaN             7.453  \n",
       "4               NaN             5.610  "
      ]
     },
     "execution_count": 5,
     "metadata": {},
     "output_type": "execute_result"
    }
   ],
   "source": [
    "# Predict on feature-only dataset\n",
    "predictions = model.predict(X_predict)\n",
    "\n",
    "# Store predictions\n",
    "X_predict[\"predicted_rating\"] = predictions\n",
    "X_predict.head()"
   ]
  },
  {
   "cell_type": "code",
   "execution_count": 6,
   "metadata": {},
   "outputs": [
    {
     "name": "stdout",
     "output_type": "stream",
     "text": [
      "✅ Predictions saved to '../output/predictions.csv'\n"
     ]
    }
   ],
   "source": [
    "X_predict[[\"predicted_rating\"]].to_csv(\"../output/predictions.csv\", index=False)\n",
    "print(\"✅ Predictions saved to '../output/predictions.csv'\")"
   ]
  }
 ],
 "metadata": {
  "kernelspec": {
   "display_name": "irisDS",
   "language": "python",
   "name": "python3"
  },
  "language_info": {
   "codemirror_mode": {
    "name": "ipython",
    "version": 3
   },
   "file_extension": ".py",
   "mimetype": "text/x-python",
   "name": "python",
   "nbconvert_exporter": "python",
   "pygments_lexer": "ipython3",
   "version": "3.10.18"
  }
 },
 "nbformat": 4,
 "nbformat_minor": 5
}
