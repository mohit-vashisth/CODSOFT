{
 "cells": [
  {
   "cell_type": "code",
   "execution_count": 15,
   "id": "71ad83cb",
   "metadata": {},
   "outputs": [],
   "source": [
    "import joblib\n",
    "import pandas as pd\n",
    "import warnings\n",
    "\n",
    "# Load the model, scaler, and training columns\n",
    "model = joblib.load(\"../models/rf_model.pkl\")\n",
    "scaler = joblib.load(\"../models/scaler.pkl\")\n",
    "columns = joblib.load(\"../models/feature_columns.pkl\")"
   ]
  },
  {
   "cell_type": "code",
   "execution_count": 16,
   "id": "bc068b81",
   "metadata": {},
   "outputs": [],
   "source": [
    "# Example input values you want to use\n",
    "input_data = {\n",
    "    'pclass': 3,\n",
    "    'sex_male': 1,\n",
    "    'age': 22,\n",
    "    'sibsp': 1,\n",
    "    'parch': 0,\n",
    "    'fare': 7.25,\n",
    "    'embarked_Q': 0,\n",
    "    'embarked_S': 1,\n",
    "    'title_Mr': 1,\n",
    "    'title_Mrs': 0,\n",
    "    'title_Officer': 0,\n",
    "    'title_Royalty': 0,\n",
    "    'age_child': 0,\n",
    "    'age_teen': 1,\n",
    "    'age_young': 0,\n",
    "    'age_adult': 0,\n",
    "    'age_senior': 0\n",
    "}"
   ]
  },
  {
   "cell_type": "code",
   "execution_count": 17,
   "id": "9806cc5f",
   "metadata": {},
   "outputs": [],
   "source": [
    "# Create a DataFrame with all required columns in the right order\n",
    "full_input = pd.DataFrame([[input_data.get(col, 0) for col in columns]], columns=columns)"
   ]
  },
  {
   "cell_type": "code",
   "execution_count": 18,
   "metadata": {},
   "outputs": [
    {
     "name": "stdout",
     "output_type": "stream",
     "text": [
      "Predicted Survival: 1\n",
      "Probability of Survival: 0.51\n"
     ]
    }
   ],
   "source": [
    "warnings.filterwarnings(\"ignore\", category=UserWarning)\n",
    "\n",
    "# Same as before\n",
    "scaled_array = scaler.transform(full_input)\n",
    "scaled_input_df = pd.DataFrame(scaled_array, columns=columns)\n",
    "\n",
    "prediction = model.predict(scaled_input_df)\n",
    "probability = model.predict_proba(scaled_input_df)\n",
    "\n",
    "print(\"Predicted Survival:\", prediction[0])\n",
    "print(\"Probability of Survival:\", probability[0][1])"
   ]
  }
 ],
 "metadata": {
  "kernelspec": {
   "display_name": "irisDS",
   "language": "python",
   "name": "python3"
  },
  "language_info": {
   "codemirror_mode": {
    "name": "ipython",
    "version": 3
   },
   "file_extension": ".py",
   "mimetype": "text/x-python",
   "name": "python",
   "nbconvert_exporter": "python",
   "pygments_lexer": "ipython3",
   "version": "3.10.18"
  }
 },
 "nbformat": 4,
 "nbformat_minor": 5
}
