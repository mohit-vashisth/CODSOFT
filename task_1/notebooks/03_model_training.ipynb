{
 "cells": [
  {
   "cell_type": "code",
   "execution_count": 1,
   "id": "4be49bcf",
   "metadata": {},
   "outputs": [],
   "source": [
    "import pandas as pd\n",
    "import numpy as np\n",
    "import matplotlib.pyplot as plt\n",
    "import seaborn as sns\n",
    "\n",
    "from sklearn.model_selection import train_test_split, cross_val_score\n",
    "from sklearn.metrics import accuracy_score, classification_report, confusion_matrix, roc_auc_score\n",
    "from sklearn.linear_model import LogisticRegression\n",
    "from sklearn.ensemble import RandomForestClassifier\n",
    "from sklearn.preprocessing import StandardScaler\n",
    "import joblib"
   ]
  },
  {
   "cell_type": "code",
   "execution_count": 2,
   "metadata": {},
   "outputs": [],
   "source": [
    "df = pd.read_csv(\"../dataset/titanic_processed.csv\", index_col=0)"
   ]
  },
  {
   "cell_type": "code",
   "execution_count": 3,
   "id": "d0a18822",
   "metadata": {},
   "outputs": [],
   "source": [
    "X = df.drop(columns=[\"survived\"])\n",
    "y = df[\"survived\"]"
   ]
  },
  {
   "cell_type": "code",
   "execution_count": 4,
   "id": "3c504b98",
   "metadata": {},
   "outputs": [],
   "source": [
    "X = pd.get_dummies(X, drop_first=True)"
   ]
  },
  {
   "cell_type": "code",
   "execution_count": 5,
   "metadata": {},
   "outputs": [],
   "source": [
    "X_train, X_test, y_train, y_test = train_test_split(\n",
    "    X, y, test_size=0.2, random_state=42, stratify=y\n",
    ")"
   ]
  },
  {
   "cell_type": "code",
   "execution_count": 6,
   "metadata": {},
   "outputs": [],
   "source": [
    "scaler = StandardScaler()\n",
    "X_train_scaled = scaler.fit_transform(X_train)\n",
    "X_test_scaled = scaler.transform(X_test)"
   ]
  },
  {
   "cell_type": "code",
   "execution_count": 7,
   "metadata": {},
   "outputs": [
    {
     "name": "stdout",
     "output_type": "stream",
     "text": [
      "🔹 Logistic Regression Report:\n",
      "               precision    recall  f1-score   support\n",
      "\n",
      "           0       0.87      0.89      0.88       110\n",
      "           1       0.82      0.78      0.80        69\n",
      "\n",
      "    accuracy                           0.85       179\n",
      "   macro avg       0.84      0.84      0.84       179\n",
      "weighted avg       0.85      0.85      0.85       179\n",
      "\n",
      "🔹 Confusion Matrix:\n",
      " [[98 12]\n",
      " [15 54]]\n",
      "🔹 ROC AUC Score: 0.8740447957839264\n"
     ]
    }
   ],
   "source": [
    "lr = LogisticRegression(max_iter=5000, solver='lbfgs', random_state=42)\n",
    "lr.fit(X_train_scaled, y_train)\n",
    "\n",
    "y_pred_lr = lr.predict(X_test_scaled)\n",
    "print(\"🔹 Logistic Regression Report:\\n\", classification_report(y_test, y_pred_lr))\n",
    "print(\"🔹 Confusion Matrix:\\n\", confusion_matrix(y_test, y_pred_lr))\n",
    "print(\"🔹 ROC AUC Score:\", roc_auc_score(y_test, lr.predict_proba(X_test_scaled)[:,1]))"
   ]
  },
  {
   "cell_type": "code",
   "execution_count": 8,
   "metadata": {},
   "outputs": [
    {
     "name": "stdout",
     "output_type": "stream",
     "text": [
      "🔹 Random Forest Report:\n",
      "               precision    recall  f1-score   support\n",
      "\n",
      "           0       0.82      0.81      0.81       110\n",
      "           1       0.70      0.71      0.71        69\n",
      "\n",
      "    accuracy                           0.77       179\n",
      "   macro avg       0.76      0.76      0.76       179\n",
      "weighted avg       0.77      0.77      0.77       179\n",
      "\n",
      "🔹 Confusion Matrix:\n",
      " [[89 21]\n",
      " [20 49]]\n",
      "🔹 ROC AUC Score: 0.8390645586297759\n"
     ]
    }
   ],
   "source": [
    "rf = RandomForestClassifier(n_estimators=100, random_state=42)\n",
    "rf.fit(X_train, y_train)\n",
    "\n",
    "y_pred_rf = rf.predict(X_test)\n",
    "print(\"🔹 Random Forest Report:\\n\", classification_report(y_test, y_pred_rf))\n",
    "print(\"🔹 Confusion Matrix:\\n\", confusion_matrix(y_test, y_pred_rf))\n",
    "print(\"🔹 ROC AUC Score:\", roc_auc_score(y_test, rf.predict_proba(X_test)[:,1]))"
   ]
  },
  {
   "cell_type": "code",
   "execution_count": 9,
   "metadata": {},
   "outputs": [
    {
     "name": "stdout",
     "output_type": "stream",
     "text": [
      "🔁 CV Accuracy (Logistic Regression): 0.8092\n",
      "🔁 CV Accuracy (Random Forest): 0.8171\n"
     ]
    }
   ],
   "source": [
    "cv_lr = cross_val_score(lr, X, y, cv=5, scoring=\"accuracy\")\n",
    "cv_rf = cross_val_score(rf, X, y, cv=5, scoring=\"accuracy\")\n",
    "\n",
    "print(\"🔁 CV Accuracy (Logistic Regression):\", np.round(cv_lr.mean(), 4))\n",
    "print(\"🔁 CV Accuracy (Random Forest):\", np.round(cv_rf.mean(), 4))"
   ]
  },
  {
   "cell_type": "code",
   "execution_count": 10,
   "metadata": {},
   "outputs": [
    {
     "data": {
      "text/plain": [
       "['../models/scaler.pkl']"
      ]
     },
     "execution_count": 10,
     "metadata": {},
     "output_type": "execute_result"
    }
   ],
   "source": [
    "joblib.dump(rf, \"../models/rf_model.pkl\")\n",
    "joblib.dump(X.columns.tolist(), \"../models/feature_columns.pkl\")\n",
    "joblib.dump(scaler, \"../models/scaler.pkl\")"
   ]
  }
 ],
 "metadata": {
  "kernelspec": {
   "display_name": "irisDS",
   "language": "python",
   "name": "python3"
  },
  "language_info": {
   "codemirror_mode": {
    "name": "ipython",
    "version": 3
   },
   "file_extension": ".py",
   "mimetype": "text/x-python",
   "name": "python",
   "nbconvert_exporter": "python",
   "pygments_lexer": "ipython3",
   "version": "3.10.18"
  }
 },
 "nbformat": 4,
 "nbformat_minor": 5
}
